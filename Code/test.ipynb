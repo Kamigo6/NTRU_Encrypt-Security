{
 "cells": [
  {
   "cell_type": "code",
   "execution_count": 1,
   "metadata": {},
   "outputs": [],
   "source": [
    "from ntru import Ntru\n",
    "import poly\n",
    "from fractions import Fraction "
   ]
  },
  {
   "cell_type": "code",
   "execution_count": 2,
   "metadata": {},
   "outputs": [
    {
     "name": "stdout",
     "output_type": "stream",
     "text": [
      "[5, 4, -3, 2]\n"
     ]
    }
   ],
   "source": [
    "a = [5, 4, -3, 2, 0]\n",
    "b = [2, 1]\n",
    "print(poly.trim(a))\n"
   ]
  },
  {
   "cell_type": "code",
   "execution_count": 3,
   "metadata": {},
   "outputs": [
    {
     "name": "stdout",
     "output_type": "stream",
     "text": [
      "[[Fraction(18, 1), Fraction(-7, 1), Fraction(2, 1)], [Fraction(-31, 1)]]\n"
     ]
    }
   ],
   "source": [
    "print(poly.divPoly(a, b))"
   ]
  },
  {
   "cell_type": "code",
   "execution_count": 4,
   "metadata": {},
   "outputs": [
    {
     "name": "stdout",
     "output_type": "stream",
     "text": [
      "[Fraction(2, 1)]\n"
     ]
    },
    {
     "data": {
      "text/plain": [
       "[[Fraction(1, 1)],\n",
       " [Fraction(1, 2), Fraction(-1, 2), Fraction(-1, 2)],\n",
       " [Fraction(1, 2), Fraction(1, 2)]]"
      ]
     },
     "execution_count": 4,
     "metadata": {},
     "output_type": "execute_result"
    }
   ],
   "source": [
    "c = [1, 0, 0, 1]\n",
    "d = [1, 0, 1]\n",
    "poly.extEuclidPoly(d, c)"
   ]
  },
  {
   "cell_type": "code",
   "execution_count": 5,
   "metadata": {},
   "outputs": [
    {
     "name": "stdout",
     "output_type": "stream",
     "text": [
      "[Fraction(3, 5), Fraction(5, 7), Fraction(1, 2)]\n"
     ]
    }
   ],
   "source": [
    "x = [Fraction(1, 5), Fraction(4, 7), Fraction(3, 8)]\n",
    "y = [Fraction(2, 5), Fraction(1, 7), Fraction(1, 8)]\n",
    "print(poly.addPoly(x, y))"
   ]
  }
 ],
 "metadata": {
  "kernelspec": {
   "display_name": "Python 3",
   "language": "python",
   "name": "python3"
  },
  "language_info": {
   "codemirror_mode": {
    "name": "ipython",
    "version": 3
   },
   "file_extension": ".py",
   "mimetype": "text/x-python",
   "name": "python",
   "nbconvert_exporter": "python",
   "pygments_lexer": "ipython3",
   "version": "3.10.5"
  }
 },
 "nbformat": 4,
 "nbformat_minor": 2
}
